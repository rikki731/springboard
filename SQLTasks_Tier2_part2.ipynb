{
 "cells": [
  {
   "cell_type": "markdown",
   "id": "8b7b4343",
   "metadata": {},
   "source": [
    "### The link of Part 1 is: https://github.com/rikki731/springboard/blob/main/SQLTasks_Tier2_part1.sql"
   ]
  },
  {
   "cell_type": "code",
   "execution_count": 1,
   "id": "67f3fed3",
   "metadata": {},
   "outputs": [],
   "source": [
    "import pandas as pd\n",
    "import sqlite3\n",
    "conn = sqlite3.connect('sqlite_db_pythonsqlite.db')"
   ]
  },
  {
   "cell_type": "markdown",
   "id": "49ca5efa",
   "metadata": {},
   "source": [
    "### Q10: List of facilities and revenues"
   ]
  },
  {
   "cell_type": "code",
   "execution_count": 2,
   "id": "8f19da82",
   "metadata": {},
   "outputs": [],
   "source": [
    "df_q10 = pd.read_sql_query('select name, sum(case when memid = 0 then guestcost * slots else membercost * slots end) as revenue from Facilities inner join Bookings using (facid) group by facid having revenue < 1000 order by revenue', conn)"
   ]
  },
  {
   "cell_type": "code",
   "execution_count": 3,
   "id": "d3c47624",
   "metadata": {},
   "outputs": [
    {
     "name": "stdout",
     "output_type": "stream",
     "text": [
      "            name  revenue\n",
      "0   Table Tennis      180\n",
      "1  Snooker Table      240\n",
      "2     Pool Table      270\n"
     ]
    }
   ],
   "source": [
    "print(df_q10)"
   ]
  },
  {
   "cell_type": "markdown",
   "id": "33329faa",
   "metadata": {},
   "source": [
    "### Q11: List of members and recommending persons"
   ]
  },
  {
   "cell_type": "code",
   "execution_count": 4,
   "id": "4db1341e",
   "metadata": {},
   "outputs": [],
   "source": [
    "df_q11 = pd.read_sql_query('select m.surname || \", \" || m.firstname as members, r.surname || \", \" || r.firstname as recommends from Members as m left join Members as r on r.memid = m.recommendedby where r.recommendedby is not NULL order by members', conn)"
   ]
  },
  {
   "cell_type": "code",
   "execution_count": 5,
   "id": "8c54b8c0",
   "metadata": {},
   "outputs": [
    {
     "name": "stdout",
     "output_type": "stream",
     "text": [
      "                     members          recommends\n",
      "0            Bader, Florence    Stibbons, Ponder\n",
      "1                Baker, Anne    Stibbons, Ponder\n",
      "2             Baker, Timothy     Farrell, Jemima\n",
      "3                Boothe, Tim         Rownam, Tim\n",
      "4            Butters, Gerald       Smith, Darren\n",
      "5               Coplin, Joan      Baker, Timothy\n",
      "6             Crumpet, Erica        Smith, Tracy\n",
      "7                Dare, Nancy    Joplette, Janice\n",
      "8           Genting, Matthew     Butters, Gerald\n",
      "9                 Hunt, John  Purview, Millicent\n",
      "10              Jones, David    Joplette, Janice\n",
      "11            Jones, Douglas        Jones, David\n",
      "12          Joplette, Janice       Smith, Darren\n",
      "13           Mackenzie, Anna       Smith, Darren\n",
      "14             Owen, Charles       Smith, Darren\n",
      "15             Pinker, David     Farrell, Jemima\n",
      "16        Purview, Millicent        Smith, Tracy\n",
      "17         Rumney, Henrietta    Genting, Matthew\n",
      "18         Sarwin, Ramnaresh     Bader, Florence\n",
      "19               Smith, Jack       Smith, Darren\n",
      "20          Stibbons, Ponder       Tracy, Burton\n",
      "21  Worthington-Smyth, Henry        Smith, Tracy\n"
     ]
    }
   ],
   "source": [
    "print(df_q11)"
   ]
  },
  {
   "cell_type": "markdown",
   "id": "cccae26c",
   "metadata": {},
   "source": [
    "### Q12: List of facilites and usage by only members"
   ]
  },
  {
   "cell_type": "code",
   "execution_count": 6,
   "id": "84f08731",
   "metadata": {},
   "outputs": [],
   "source": [
    "df_q12 = pd.read_sql_query('select name, sum(slots) as usage_half_hour from Facilities inner join Bookings using (facid) where memid <> 0 group by facid', conn)"
   ]
  },
  {
   "cell_type": "code",
   "execution_count": 7,
   "id": "d60f8c01",
   "metadata": {},
   "outputs": [
    {
     "name": "stdout",
     "output_type": "stream",
     "text": [
      "              name  usage_half_hour\n",
      "0   Tennis Court 1              957\n",
      "1   Tennis Court 2              882\n",
      "2  Badminton Court             1086\n",
      "3     Table Tennis              794\n",
      "4   Massage Room 1              884\n",
      "5   Massage Room 2               54\n",
      "6     Squash Court              418\n",
      "7    Snooker Table              860\n",
      "8       Pool Table              856\n"
     ]
    }
   ],
   "source": [
    "print(df_q12)"
   ]
  },
  {
   "cell_type": "markdown",
   "id": "9fc65e9a",
   "metadata": {},
   "source": [
    "### Q13: List of facilities and usage monthely by only members"
   ]
  },
  {
   "cell_type": "code",
   "execution_count": 8,
   "id": "a50503a6",
   "metadata": {},
   "outputs": [],
   "source": [
    "df_q13 = pd.read_sql_query('select strftime(\"%m\", starttime) as month, name, sum(slots) as usage_half_hour from Facilities inner join Bookings using (facid) where memid <> 0 group by month, facid', conn)"
   ]
  },
  {
   "cell_type": "code",
   "execution_count": 9,
   "id": "f2e6a7a9",
   "metadata": {},
   "outputs": [
    {
     "name": "stdout",
     "output_type": "stream",
     "text": [
      "   month             name  usage_half_hour\n",
      "0     07   Tennis Court 1              201\n",
      "1     07   Tennis Court 2              123\n",
      "2     07  Badminton Court              165\n",
      "3     07     Table Tennis               98\n",
      "4     07   Massage Room 1              166\n",
      "5     07   Massage Room 2                8\n",
      "6     07     Squash Court               50\n",
      "7     07    Snooker Table              140\n",
      "8     07       Pool Table              110\n",
      "9     08   Tennis Court 1              339\n",
      "10    08   Tennis Court 2              345\n",
      "11    08  Badminton Court              414\n",
      "12    08     Table Tennis              296\n",
      "13    08   Massage Room 1              316\n",
      "14    08   Massage Room 2               18\n",
      "15    08     Squash Court              184\n",
      "16    08    Snooker Table              316\n",
      "17    08       Pool Table              303\n",
      "18    09   Tennis Court 1              417\n",
      "19    09   Tennis Court 2              414\n",
      "20    09  Badminton Court              507\n",
      "21    09     Table Tennis              400\n",
      "22    09   Massage Room 1              402\n",
      "23    09   Massage Room 2               28\n",
      "24    09     Squash Court              184\n",
      "25    09    Snooker Table              404\n",
      "26    09       Pool Table              443\n"
     ]
    }
   ],
   "source": [
    "print(df_q13)"
   ]
  },
  {
   "cell_type": "markdown",
   "id": "f130d520",
   "metadata": {},
   "source": [
    "### The link of Part 1 is: https://github.com/rikki731/springboard/blob/main/SQLTasks_Tier2_part1.sql"
   ]
  }
 ],
 "metadata": {
  "kernelspec": {
   "display_name": "Python 3 (ipykernel)",
   "language": "python",
   "name": "python3"
  },
  "language_info": {
   "codemirror_mode": {
    "name": "ipython",
    "version": 3
   },
   "file_extension": ".py",
   "mimetype": "text/x-python",
   "name": "python",
   "nbconvert_exporter": "python",
   "pygments_lexer": "ipython3",
   "version": "3.9.12"
  }
 },
 "nbformat": 4,
 "nbformat_minor": 5
}
